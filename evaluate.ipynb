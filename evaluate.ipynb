{
 "cells": [
  {
   "cell_type": "markdown",
   "metadata": {},
   "source": [
    "## find threshhold for classification glaucoma and non-glaucoma"
   ]
  },
  {
   "cell_type": "code",
   "execution_count": 2,
   "metadata": {},
   "outputs": [],
   "source": [
    "import os\n",
    "import matplotlib\n",
    "import numpy as np\n",
    "import matplotlib.pyplot as plt\n",
    "import string\n",
    "%matplotlib inline \n",
    "from PIL import Image"
   ]
  },
  {
   "cell_type": "markdown",
   "metadata": {},
   "source": [
    "## get ground truth CDRs"
   ]
  },
  {
   "cell_type": "code",
   "execution_count": 3,
   "metadata": {},
   "outputs": [
    {
     "name": "stdout",
     "output_type": "stream",
     "text": [
      "Test400 CDR: {'T0283': 0.3611111111111111, 'T0297': 0.46153846153846156, 'T0268': 0.47058823529411764, 'T0240': 0.6111111111111112, 'T0254': 0.5789473684210527, 'T0308': 0.375, 'T0334': 0.5384615384615384, 'T0320': 0.5581395348837209, 'T0321': 0.47619047619047616, 'T0335': 0.42105263157894735, 'T0309': 0.5384615384615384, 'T0255': 0.40540540540540543, 'T0241': 0.4857142857142857, 'T0269': 0.40476190476190477, 'T0296': 0.525, 'T0282': 0.3939393939393939, 'T0294': 0.5142857142857142, 'T0280': 0.2857142857142857, 'T0257': 0.5128205128205128, 'T0243': 0.4186046511627907, 'T0323': 0.5135135135135135, 'T0337': 0.3939393939393939, 'T0336': 0.47368421052631576, 'T0322': 0.5277777777777778, 'T0242': 0.40625, 'T0256': 0.3888888888888889, 'T0281': 0.35294117647058826, 'T0295': 0.6571428571428571, 'T0291': 0.5897435897435898, 'T0285': 0.525, 'T0252': 0.3409090909090909, 'T0246': 0.3684210526315789, 'T0326': 0.4722222222222222, 'T0332': 0.37142857142857144, 'T0333': 0.34285714285714286, 'T0327': 0.4117647058823529, 'T0247': 0.375, 'T0253': 0.4411764705882353, 'T0284': 0.4166666666666667, 'T0290': 0.3333333333333333, 'T0286': 0.4864864864864865, 'T0292': 0.3333333333333333, 'T0245': 0.3548387096774194, 'T0251': 0.5384615384615384, 'T0279': 0.4444444444444444, 'T0331': 0.6, 'T0325': 0.4864864864864865, 'T0319': 0.43333333333333335, 'T0318': 0.46875, 'T0324': 0.5263157894736842, 'T0330': 0.46153846153846156, 'T0278': 0.5135135135135135, 'T0250': 0.39473684210526316, 'T0244': 0.3055555555555556, 'T0293': 0.47058823529411764, 'T0287': 0.38461538461538464, 'T0223': 0.8536585365853658, 'T0237': 0.42424242424242425, 'T0394': 0.5609756097560976, 'T0380': 0.2222222222222222, 'T0357': 0.38461538461538464, 'T0343': 0.35, 'T0342': 0.7142857142857143, 'T0356': 0.4878048780487805, 'T0381': 0.6153846153846154, 'T0395': 0.5833333333333334, 'T0236': 0.55, 'T0222': 0.4166666666666667, 'T0208': 0.3939393939393939, 'T0234': 0.45, 'T0220': 0.3684210526315789, 'T0383': 0.5135135135135135, 'T0397': 0.5277777777777778, 'T0368': 0.5454545454545454, 'T0340': 0.375, 'T0354': 0.4117647058823529, 'T0355': 0.3783783783783784, 'T0341': 0.5, 'T0369': 0.5135135135135135, 'T0396': 0.45454545454545453, 'T0382': 0.53125, 'T0221': 0.47058823529411764, 'T0235': 0.4166666666666667, 'T0209': 0.2857142857142857, 'T0231': 0.5277777777777778, 'T0225': 0.4444444444444444, 'T0219': 0.4473684210526316, 'T0386': 0.35294117647058826, 'T0392': 0.42105263157894735, 'T0345': 0.425, 'T0351': 0.3488372093023256, 'T0379': 0.2702702702702703, 'T0378': 0.42424242424242425, 'T0350': 0.5277777777777778, 'T0344': 0.5128205128205128, 'T0393': 0.34285714285714286, 'T0387': 0.42857142857142855, 'T0218': 0.4878048780487805, 'T0224': 0.2571428571428571, 'T0230': 0.4166666666666667, 'T0226': 0.3611111111111111, 'T0232': 0.475, 'T0391': 0.375, 'T0385': 0.46153846153846156, 'T0352': 0.48717948717948717, 'T0346': 0.725, 'T0347': 0.45, 'T0353': 0.4117647058823529, 'T0384': 0.34375, 'T0390': 0.4, 'T0233': 0.5151515151515151, 'T0227': 0.4411764705882353, 'T0202': 0.32558139534883723, 'T0216': 0.4444444444444444, 'T0389': 0.42424242424242425, 'T0376': 0.4358974358974359, 'T0362': 0.3888888888888889, 'T0363': 0.5405405405405406, 'T0377': 0.5, 'T0388': 0.2777777777777778, 'T0217': 0.5384615384615384, 'T0203': 0.5135135135135135, 'T0229': 0.6052631578947368, 'T0215': 0.43243243243243246, 'T0201': 0.5555555555555556, 'T0349': 0.3235294117647059, 'T0361': 0.475, 'T0375': 0.5526315789473685, 'T0374': 0.5789473684210527, 'T0360': 0.3333333333333333, 'T0348': 0.45714285714285713, 'T0214': 0.2777777777777778, 'T0228': 0.45454545454545453, 'T0210': 0.3235294117647059, 'T0204': 0.5675675675675675, 'T0238': 0.35294117647058826, 'T0364': 0.5897435897435898, 'T0370': 0.7435897435897436, 'T0358': 0.4358974358974359, 'T0359': 0.3684210526315789, 'T0371': 0.5405405405405406, 'T0365': 0.46511627906976744, 'T0239': 0.4358974358974359, 'T0205': 0.35294117647058826, 'T0211': 0.35135135135135137, 'T0207': 0.4146341463414634, 'T0213': 0.3611111111111111, 'T0398': 0.425, 'T0373': 0.34146341463414637, 'T0367': 0.32432432432432434, 'T0366': 0.4, 'T0400': 0.4594594594594595, 'T0372': 0.45, 'T0399': 0.3888888888888889, 'T0212': 0.45714285714285713, 'T0206': 0.425, 'T0249': 0.4772727272727273, 'T0261': 0.4523809523809524, 'T0275': 0.42105263157894735, 'T0329': 0.42105263157894735, 'T0315': 0.38235294117647056, 'T0301': 0.3888888888888889, 'T0300': 0.40540540540540543, 'T0314': 0.38235294117647056, 'T0328': 0.36585365853658536, 'T0274': 0.40540540540540543, 'T0260': 0.3684210526315789, 'T0248': 0.38461538461538464, 'T0289': 0.4411764705882353, 'T0276': 0.38461538461538464, 'T0262': 0.5128205128205128, 'T0302': 0.4523809523809524, 'T0316': 0.34285714285714286, 'T0317': 0.30303030303030304, 'T0303': 0.5135135135135135, 'T0263': 0.6888888888888889, 'T0277': 0.4523809523809524, 'T0288': 0.4594594594594595, 'T0298': 0.6097560975609756, 'T0273': 0.40540540540540543, 'T0267': 0.6060606060606061, 'T0307': 0.43243243243243246, 'T0313': 0.37142857142857144, 'T0312': 0.3055555555555556, 'T0306': 0.4358974358974359, 'T0266': 0.43243243243243246, 'T0272': 0.39473684210526316, 'T0299': 0.40540540540540543, 'T0264': 0.48717948717948717, 'T0270': 0.37142857142857144, 'T0258': 0.425, 'T0310': 0.6153846153846154, 'T0304': 0.5, 'T0338': 0.42857142857142855, 'T0339': 0.36363636363636365, 'T0305': 0.3225806451612903, 'T0311': 0.35135135135135137, 'T0259': 0.4166666666666667, 'T0271': 0.5757575757575758, 'T0265': 0.4772727272727273, 'mean': 0.4458732874316526, 'max': 0.8536585365853658, 'min': 0.2222222222222222}\n"
     ]
    }
   ],
   "source": [
    "def vertical_diameter(binary_segmentation):\n",
    "    '''\n",
    "    Get the vertical diameter from a binary segmentation.\n",
    "    The vertical diameter is defined as the \"fattest\" area of the binary_segmentation parameter.\n",
    "\n",
    "    Input:\n",
    "        binary_segmentation: a boolean 2D numpy array representing a region of interest.\n",
    "    Output:\n",
    "        diameter: the vertical diameter of the structure, defined as the largest diameter between the upper and the lower interfaces\n",
    "    '''\n",
    "\n",
    "    # turn the variable to boolean, just in case\n",
    "    binary_segmentation = np.asarray(binary_segmentation, dtype=np.bool)\n",
    "    \n",
    "    # get the sum of the pixels in the vertical axis\n",
    "    vertical_axis_diameter = np.sum(binary_segmentation, axis=0)\n",
    "\n",
    "    # pick the maximum value\n",
    "    diameter = np.max(vertical_axis_diameter)\n",
    "\n",
    "    # return it\n",
    "    return float(diameter)\n",
    "\n",
    "\n",
    "def cal_cdr(path):\n",
    "    cdr, CDR = [], {}\n",
    "    for root, dirs, files in os.walk(path):\n",
    "        for image_path in files:\n",
    "    #         print(image_path)\n",
    "    #         print(os.path.splitext(image_path))\n",
    "            if os.path.splitext(image_path)[-1] == '.png':\n",
    "#                 print(os.path.join(root, image_path))\n",
    "                image = np.array(Image.open(os.path.join(root, image_path)))\n",
    "\n",
    "                # compute the cup diameter\n",
    "                cup_diameter = vertical_diameter(image==0)\n",
    "\n",
    "                # compute the disc diameter\n",
    "                disc_diameter = vertical_diameter(image<2)\n",
    "\n",
    "                cdr.append(cup_diameter / disc_diameter)\n",
    "#                 if (cup_diameter / disc_diameter > 1):\n",
    "#                     plt.imshow(image)\n",
    "                \n",
    "                CDR[os.path.splitext(image_path)[0]] = cup_diameter / disc_diameter\n",
    "\n",
    "    CDR['mean'] = np.mean(np.array(cdr))\n",
    "    CDR['max'] = np.max(np.array(cdr))\n",
    "    CDR['min'] = np.min(np.array(cdr))\n",
    "    \n",
    "    return CDR\n",
    "\n",
    "\n",
    "gt_folder = 'glaucoma/Disc_Cup_Masks'\n",
    "pos_cdr = cal_cdr(os.path.join(gt_folder, 'Glaucoma'))\n",
    "neg_cdr = cal_cdr(os.path.join(gt_folder, 'Non-Glaucoma'))\n",
    "test_cdr = cal_cdr('glaucoma/gt400')\n",
    "\n",
    "# print('Glaucoma CDR:', pos_cdr)\n",
    "# print('Non-Glaucoma CDR:', neg_cdr)\n",
    "print('Test400 CDR:', test_cdr)"
   ]
  },
  {
   "cell_type": "markdown",
   "metadata": {},
   "source": [
    "## Test mean square error with ground truth CDR"
   ]
  },
  {
   "cell_type": "code",
   "execution_count": 5,
   "metadata": {},
   "outputs": [],
   "source": [
    "def moving_average(data, coe=0.85):\n",
    "    for i in range(1, len(data)):\n",
    "        data[i] = data[i-1] * coe + data[i] * (1-coe)\n",
    "    return data"
   ]
  },
  {
   "cell_type": "code",
   "execution_count": 6,
   "metadata": {
    "scrolled": true
   },
   "outputs": [
    {
     "name": "stdout",
     "output_type": "stream",
     "text": [
      "step 0, loss = 0.12637142580988767\n",
      "step 500, loss = 0.02307230572810971\n",
      "step 1000, loss = 0.03780239609244811\n",
      "step 1500, loss = 0.011334186745897638\n",
      "step 2000, loss = 0.05216615751384907\n",
      "step 2500, loss = 0.01350469604879914\n",
      "step 3000, loss = 0.013429021083093953\n",
      "step 3500, loss = 0.02871265908109537\n",
      "step 4000, loss = 0.01975278593848903\n",
      "step 4500, loss = 0.01189709537607938\n",
      "step 5000, loss = 0.011443363211500301\n",
      "step 5500, loss = 0.01155573697016298\n",
      "step 6000, loss = 0.038346435040105875\n",
      "step 6500, loss = 0.028239785769243575\n",
      "step 7000, loss = 0.0412651998771247\n",
      "step 7500, loss = 0.039253246386678396\n"
     ]
    },
    {
     "data": {
      "text/plain": [
       "[<matplotlib.lines.Line2D at 0x11dbcdd30>]"
      ]
     },
     "execution_count": 6,
     "metadata": {},
     "output_type": "execute_result"
    },
    {
     "data": {
      "image/png": "[encoded data removed]",
      "text/plain": [
       "<Figure size 432x288 with 1 Axes>"
      ]
     },
     "metadata": {
      "needs_background": "light"
     },
     "output_type": "display_data"
    }
   ],
   "source": [
    "transfer_res = '../transfer_res_2/'\n",
    "\n",
    "gt_cdr = []\n",
    "\n",
    "\n",
    "def cal_cdr_loss(image_path, image_name):\n",
    "    image_name = os.path.splitext(image_name)[0]\n",
    "    image = np.array(Image.open(image_path))\n",
    "    # compute the cup diameter\n",
    "    cup_diameter = vertical_diameter(image==0)\n",
    "    # compute the disc diameter\n",
    "    disc_diameter = vertical_diameter(image<255)\n",
    "    cdr = cup_diameter / disc_diameter\n",
    "    return (cdr - test_cdr[image_name])**2\n",
    "#     if (cup_diameter / disc_diameter > 1):\n",
    "#         plt.imshow(image)\n",
    "\n",
    "\n",
    "for root, dirs, files in os.walk(transfer_res):\n",
    "#     print(root, dirs, files)\n",
    "    losses = []\n",
    "    for i in range(0, 8000, 500):\n",
    "        loss = []\n",
    "        for image_path in files:\n",
    "            if (os.path.splitext(image_path)[-1] == '.png'):\n",
    "                step, image_name = int(image_path.split('_')[0]), image_path.split('_')[1]\n",
    "                if (step == i): \n",
    "                    loss.append(cal_cdr_loss(os.path.join(root, image_path), image_name))\n",
    "        loss = np.mean(np.array(loss))\n",
    "        losses.append(loss)\n",
    "        print('step {}, loss = {}'.format(i, loss))\n",
    "    \n",
    "plt.xlabel('steps (x500)')\n",
    "plt.ylabel('moveing average mean square error')\n",
    "plt.plot(moving_average(losses))"
   ]
  },
  {
   "cell_type": "code",
   "execution_count": 7,
   "metadata": {
    "scrolled": true
   },
   "outputs": [
    {
     "name": "stdout",
     "output_type": "stream",
     "text": [
      "step 0, loss = 0.1185856713692497\n",
      "step 10, loss = 0.10219632807863327\n",
      "step 20, loss = 0.01611799512883316\n",
      "step 30, loss = 0.13210878786198932\n",
      "step 40, loss = 0.05519463410939891\n",
      "step 50, loss = 0.024389620963947076\n",
      "step 60, loss = 0.025928059293065964\n",
      "step 70, loss = 0.03201742442475146\n",
      "step 80, loss = 0.24688421890999301\n",
      "step 90, loss = 0.2601384846239246\n",
      "step 100, loss = 0.14167576789804726\n",
      "step 110, loss = 0.009479631859428156\n",
      "step 120, loss = 0.06056724271963864\n",
      "step 130, loss = 0.1058604665667559\n",
      "step 140, loss = 0.18186203804222875\n",
      "step 150, loss = 0.1126752353595096\n",
      "step 160, loss = 0.015620931329330503\n",
      "step 170, loss = 0.009218135410921922\n",
      "step 180, loss = 0.010303088486588348\n",
      "step 190, loss = 0.019662110994418877\n"
     ]
    },
    {
     "data": {
      "image/png": "[encoded data removed]",
      "text/plain": [
       "<Figure size 432x288 with 1 Axes>"
      ]
     },
     "metadata": {
      "needs_background": "light"
     },
     "output_type": "display_data"
    }
   ],
   "source": [
    "transfer_res = '../transfer_res_4/'\n",
    "\n",
    "gt_cdr = []\n",
    "\n",
    "\n",
    "def cal_cdr_loss(image_path, image_name):\n",
    "    image_name = os.path.splitext(image_name)[0]\n",
    "    image = np.array(Image.open(image_path))\n",
    "    # compute the cup diameter\n",
    "    cup_diameter = vertical_diameter(image==0)\n",
    "    # compute the disc diameter\n",
    "    disc_diameter = vertical_diameter(image<255)\n",
    "    cdr = cup_diameter / disc_diameter\n",
    "    return (cdr - test_cdr[image_name])**2\n",
    "#     if (cup_diameter / disc_diameter > 1):\n",
    "#         plt.imshow(image)\n",
    "\n",
    "\n",
    "for root, dirs, files in os.walk(transfer_res):\n",
    "#     print(root, dirs, files)\n",
    "    losses = []\n",
    "    for i in range(0, 200, 10):\n",
    "        loss = []\n",
    "        for image_path in files:\n",
    "            if (os.path.splitext(image_path)[-1] == '.png'):\n",
    "                step, image_name = int(image_path.split('_')[0]), image_path.split('_')[1]\n",
    "                if (step == i): \n",
    "                    loss.append(cal_cdr_loss(os.path.join(root, image_path), image_name))\n",
    "        loss = np.mean(np.array(loss))\n",
    "        losses.append(loss)\n",
    "        print('step {}, loss = {}'.format(i, loss))\n",
    "    \n",
    "    for i in range(len(losses)):\n",
    "        losses[i] = losses[i-1] * 0.8 + losses[i]\n",
    "    plt.plot(losses)"
   ]
  },
  {
   "cell_type": "code",
   "execution_count": 8,
   "metadata": {},
   "outputs": [
    {
     "data": {
      "text/plain": [
       "[<matplotlib.lines.Line2D at 0x122f41828>]"
      ]
     },
     "execution_count": 8,
     "metadata": {},
     "output_type": "execute_result"
    },
    {
     "data": {
      "image/png": "[encoded data removed]",
      "text/plain": [
       "<Figure size 432x288 with 1 Axes>"
      ]
     },
     "metadata": {
      "needs_background": "light"
     },
     "output_type": "display_data"
    }
   ],
   "source": [
    "acc, iu = [], []\n",
    "    \n",
    "with open('results.txt') as f:\n",
    "    for line in f.readlines():\n",
    "#         print(line)\n",
    "        if 'acc' in line:\n",
    "            acc.append(float(line.split()[-1]))\n",
    "        if 'mean IU' in line:\n",
    "            iu.append(float(line.split()[-1]))\n",
    "\n",
    "plt.plot(moving_average(acc, coe=0.9), label='Acc')\n",
    "plt.plot(moving_average(iu, coe=0.9), label='IoU')"
   ]
  },
  {
   "cell_type": "code",
   "execution_count": null,
   "metadata": {},
   "outputs": [],
   "source": []
  }
 ],
 "metadata": {
  "kernelspec": {
   "display_name": "Python 3",
   "language": "python",
   "name": "python3"
  },
  "language_info": {
   "codemirror_mode": {
    "name": "ipython",
    "version": 3
   },
   "file_extension": ".py",
   "mimetype": "text/x-python",
   "name": "python",
   "nbconvert_exporter": "python",
   "pygments_lexer": "ipython3",
   "version": "3.6.6"
  }
 },
 "nbformat": 4,
 "nbformat_minor": 2
}
